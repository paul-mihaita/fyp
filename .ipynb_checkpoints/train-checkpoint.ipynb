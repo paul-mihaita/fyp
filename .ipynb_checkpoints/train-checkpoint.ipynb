{
 "cells": [
  {
   "cell_type": "code",
   "execution_count": 1,
   "metadata": {},
   "outputs": [
    {
     "name": "stdout",
     "output_type": "stream",
     "text": [
      "0    thi is not that good man wwwwwodasd e\n",
      "Name: tidy_tweet, dtype: object\n"
     ]
    }
   ],
   "source": [
    "import re\n",
    "import os\n",
    "import pandas as pd \n",
    "import numpy as np \n",
    "import matplotlib.pyplot as plt \n",
    "import seaborn as sns\n",
    "import string\n",
    "import nltk\n",
    "from nltk.corpus import stopwords \n",
    "from nltk.tokenize import word_tokenize \n",
    "import math\n",
    "from joblib import dump, load\n",
    "from nltk.stem.porter import *\n",
    "from scipy.sparse import csr_matrix\n",
    "import warnings \n",
    "from wordcloud import WordCloud\n",
    "from sklearn.feature_extraction.text import CountVectorizer,TfidfVectorizer\n",
    "from sklearn.linear_model import LogisticRegression\n",
    "from sklearn.model_selection import KFold\n",
    "from sklearn.model_selection import train_test_split\n",
    "from sklearn.metrics import f1_score\n",
    "from sklearn.ensemble import RandomForestClassifier\n",
    "from sklearn.metrics import classification_report, confusion_matrix, accuracy_score\n",
    "from sklearn.svm import SVC\n",
    "from sklearn.neighbors import KNeighborsClassifier\n",
    "from sklearn.preprocessing import MinMaxScaler\n",
    "from sklearn.metrics import mean_squared_error\n",
    "from helper_functions import *\n",
    "\n",
    "#test_cleantext(\"\")\n"
   ]
  },
  {
   "cell_type": "code",
   "execution_count": 2,
   "metadata": {},
   "outputs": [
    {
     "name": "stdout",
     "output_type": "stream",
     "text": [
      "Which technique to use for training?\n",
      "1. Logistic Regression\n",
      "2. Random Forest\n",
      "3. SVC , polynomial\n",
      "4. SVC, gaussian\n",
      "5. SVC, sigmoid\n",
      "6. K-nearest \n",
      "Please enter a number from 1 to 6\n",
      "2\n"
     ]
    }
   ],
   "source": [
    "warnings.filterwarnings(\"ignore\", category=DeprecationWarning)\n",
    "\n",
    "train  = clean_tweets(pd.read_csv('train_tweets.csv'))\n",
    "test = clean_tweets(pd.read_csv('test_tweets.csv'))\n",
    "new = clean_tweets(load(\"tweets_labeled.csv\"))\n",
    "new2 = clean_tweets(load(\"tweets_labeled2.csv\"))\n",
    "train = train.append(new)\n",
    "train = train.append(new2)\n",
    "train_label = train['label']\n",
    "s = prompt_classifier()\n"
   ]
  },
  {
   "cell_type": "code",
   "execution_count": 4,
   "metadata": {},
   "outputs": [],
   "source": [
    "tfidf_vectorizer = TfidfVectorizer(max_df=0.90, min_df=2, max_features=1000, stop_words='english',ngram_range = (1,3)) \n",
    "train_tfidf = tfidf_vectorizer.fit_transform(train['tidy_tweet']) \n",
    "\n",
    "if s == 1:\n",
    "    text_classifier = LogisticRegression()\n",
    "    filename = 'logisticregression_model.joblib'\n",
    "elif s == 2:\n",
    "    text_classifier = RandomForestClassifier(n_estimators=200, random_state=0)\n",
    "    filename = 'randomforest_model.joblib'\n",
    "elif s == 3:\n",
    "    text_classifier = SVC(kernel='poly', degree=8)\n",
    "    filename = \"svcpolynomial_model.joblib\"\n",
    "elif s == 4:\n",
    "    text_classifier = SVC(kernel='rbf')\n",
    "    filename = \"svcgaussian_model.joblib\"\n",
    "elif s == 5:\n",
    "    text_classifier = SVC(kernel='sigmoid')\n",
    "    filename = \"svcsigmoid_model.joblib\"\n",
    "elif s == 6:\n",
    "    text_classifier = KNeighborsClassifier(n_neighbors=2)\n",
    "    filename = \"kneighbors_model.joblib\""
   ]
  },
  {
   "cell_type": "code",
   "execution_count": 5,
   "metadata": {},
   "outputs": [
    {
     "name": "stdout",
     "output_type": "stream",
     "text": [
      "[[9414  132]\n",
      " [ 621  541]]\n",
      "              precision    recall  f1-score   support\n",
      "\n",
      "           0       0.94      0.99      0.96      9546\n",
      "           1       0.80      0.47      0.59      1162\n",
      "\n",
      "    accuracy                           0.93     10708\n",
      "   macro avg       0.87      0.73      0.78     10708\n",
      "weighted avg       0.92      0.93      0.92     10708\n",
      "\n",
      "[[9432  122]\n",
      " [ 616  538]]\n",
      "              precision    recall  f1-score   support\n",
      "\n",
      "           0       0.94      0.99      0.96      9554\n",
      "           1       0.82      0.47      0.59      1154\n",
      "\n",
      "    accuracy                           0.93     10708\n",
      "   macro avg       0.88      0.73      0.78     10708\n",
      "weighted avg       0.93      0.93      0.92     10708\n",
      "\n",
      "[[9424  122]\n",
      " [ 620  542]]\n",
      "              precision    recall  f1-score   support\n",
      "\n",
      "           0       0.94      0.99      0.96      9546\n",
      "           1       0.82      0.47      0.59      1162\n",
      "\n",
      "    accuracy                           0.93     10708\n",
      "   macro avg       0.88      0.73      0.78     10708\n",
      "weighted avg       0.93      0.93      0.92     10708\n",
      "\n",
      "[[9431   95]\n",
      " [ 612  570]]\n",
      "              precision    recall  f1-score   support\n",
      "\n",
      "           0       0.94      0.99      0.96      9526\n",
      "           1       0.86      0.48      0.62      1182\n",
      "\n",
      "    accuracy                           0.93     10708\n",
      "   macro avg       0.90      0.74      0.79     10708\n",
      "weighted avg       0.93      0.93      0.93     10708\n",
      "\n",
      "[[9437   91]\n",
      " [ 628  552]]\n",
      "              precision    recall  f1-score   support\n",
      "\n",
      "           0       0.94      0.99      0.96      9528\n",
      "           1       0.86      0.47      0.61      1180\n",
      "\n",
      "    accuracy                           0.93     10708\n",
      "   macro avg       0.90      0.73      0.78     10708\n",
      "weighted avg       0.93      0.93      0.92     10708\n",
      "\n"
     ]
    }
   ],
   "source": [
    "kfolds = 5\n",
    "kf = KFold(n_splits = kfolds, shuffle = True)\n",
    "max_score = 0\n",
    "for i in range(kfolds):\n",
    "    result = next(kf.split(train_tfidf),None)\n",
    "    xtrain_tfidf = train_tfidf[result[0]]\n",
    "    xvalid_tfidf = train_tfidf[result[1]]\n",
    "    ytrain = train_label.iloc[result[0]]\n",
    "    yvalid = train_label.iloc[result[1]]\n",
    "    model = text_classifier.fit(xtrain_tfidf, ytrain)\n",
    "    if s == 1:\n",
    "        prediction = model.predict_proba(xvalid_tfidf)\n",
    "        prediction_int = prediction[:,1] >= 0.3\n",
    "        predictions = prediction_int.astype(np.int)\n",
    "    else:\n",
    "        predictions = model.predict(xvalid_tfidf)\n",
    "    print(confusion_matrix(yvalid,predictions))\n",
    "    res = classification_report(yvalid,predictions,output_dict = True)\n",
    "    if max_score < res['weighted avg']['f1-score']:\n",
    "        max_score = res['weighted avg']['f1-score']\n",
    "        best_model = model\n",
    "\n",
    "    print(classification_report(yvalid,predictions))\n"
   ]
  },
  {
   "cell_type": "code",
   "execution_count": 6,
   "metadata": {},
   "outputs": [
    {
     "name": "stdout",
     "output_type": "stream",
     "text": [
      "Model saved in file randomforest_model.joblib\n",
      "\n"
     ]
    }
   ],
   "source": [
    "\n",
    "if os.path.isfile(os.getcwd()+'/' + filename):\n",
    "    os.remove(os.getcwd()+'/' + filename) \n",
    "dump(best_model, filename)\n",
    "if os.path.isfile(os.getcwd()+'/' + \"tfidf.pkl\"):\n",
    "    os.remove(os.getcwd()+'/' + \"tfidf.pkl\") \n",
    "dump(tfidf_vectorizer, open(\"tfidf.pkl\", \"wb\"))\n",
    "\n",
    "print(\"Model saved in file \" + filename + '\\n')"
   ]
  },
  {
   "cell_type": "code",
   "execution_count": null,
   "metadata": {},
   "outputs": [],
   "source": []
  }
 ],
 "metadata": {
  "hide_input": false,
  "kernelspec": {
   "display_name": "Python 3",
   "language": "python",
   "name": "python3"
  },
  "language_info": {
   "codemirror_mode": {
    "name": "ipython",
    "version": 3
   },
   "file_extension": ".py",
   "mimetype": "text/x-python",
   "name": "python",
   "nbconvert_exporter": "python",
   "pygments_lexer": "ipython3",
   "version": "3.6.9"
  }
 },
 "nbformat": 4,
 "nbformat_minor": 2
}
